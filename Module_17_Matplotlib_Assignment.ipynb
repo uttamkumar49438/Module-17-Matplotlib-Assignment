{
  "nbformat": 4,
  "nbformat_minor": 0,
  "metadata": {
    "colab": {
      "provenance": []
    },
    "kernelspec": {
      "name": "python3",
      "display_name": "Python 3"
    },
    "language_info": {
      "name": "python"
    }
  },
  "cells": [
    {
      "cell_type": "markdown",
      "source": [
        "Q1: What is Matplotlib? Why is it used? Name five plots that can be plotted using the Pyplot module of\n",
        "Matplotlib."
      ],
      "metadata": {
        "id": "6FwKHQ5fGzUD"
      }
    },
    {
      "cell_type": "markdown",
      "source": [
        "Matplotlib is a popular Python library used for creating static, interactive, and animated visualizations in Python\n",
        "\n",
        "Five plots that can be plotted using the Pyplot module of Matplotlib:\n",
        " - Line Plot\n",
        " - Scatter Plot:\n",
        " - Histogram\n",
        " - Bar Plot\n",
        " - Pie Chart"
      ],
      "metadata": {
        "id": "J4AakbxNG4ZZ"
      }
    },
    {
      "cell_type": "markdown",
      "source": [
        "Q2: What is a scatter plot? Use the following code to generate data for x and y. Using this generated data\n",
        "plot a scatter plot.\n",
        "import numpy as np\n",
        "np.random.seed(3)\n",
        "x = 3 + np.random.normal(0, 2, 50)\n",
        "y = 3 + np.random.normal(0, 2, len(x))\n",
        "Note: Also add title, xlabel, and ylabel to the plot."
      ],
      "metadata": {
        "id": "-0V1r5CRHHo0"
      }
    },
    {
      "cell_type": "code",
      "source": [
        "import matplotlib.pyplot as plt\n",
        "import numpy as np\n",
        "\n",
        "# Set random seed for reproducibility\n",
        "np.random.seed(3)\n",
        "\n",
        "# Generate data for x and y\n",
        "x = 3 + np.random.normal(0, 2, 50)\n",
        "y = 3 + np.random.normal(0, 2, len(x))\n",
        "\n",
        "# Create a scatter plot\n",
        "plt.scatter(x, y)\n",
        "\n",
        "# Add title, xlabel, and ylabel to the plot\n",
        "plt.title('Scatter Plot')\n",
        "plt.xlabel('X')\n",
        "plt.ylabel('Y')\n",
        "\n",
        "# Display the plot\n",
        "plt.show()"
      ],
      "metadata": {
        "id": "1mxzbE8oHcPe"
      },
      "execution_count": null,
      "outputs": []
    },
    {
      "cell_type": "markdown",
      "source": [
        "Q3: Why is the subplot() function used? Draw four line plots using the subplot() function.\n",
        "Use the following data:\n",
        "import numpy as np\n",
        "For line 1: x = np.array([0, 1, 2, 3, 4, 5]) and y = np.array([0, 100, 200, 300, 400, 500])\n",
        "For line 2: x = np.array([0, 1, 2, 3, 4, 5]) and y = np.array([50, 20, 40, 20, 60, 70])\n",
        "For line 3: x = np.array([0, 1, 2, 3, 4, 5]) and y = np.array([10, 20, 30, 40, 50, 60])\n",
        "For line 4: x = np.array([0, 1, 2, 3, 4, 5]) and y = np.array([200, 350, 250, 550, 450, 150])"
      ],
      "metadata": {
        "id": "mH0e9r43HfzD"
      }
    },
    {
      "cell_type": "code",
      "source": [
        "import matplotlib.pyplot as plt\n",
        "import numpy as np\n",
        "\n",
        "# Define the data for four line plots\n",
        "x1 = np.array([0, 1, 2, 3, 4, 5])\n",
        "y1 = np.array([0, 100, 200, 300, 400, 500])\n",
        "\n",
        "x2 = np.array([0, 1, 2, 3, 4, 5])\n",
        "y2 = np.array([50, 20, 40, 20, 60, 70])\n",
        "\n",
        "x3 = np.array([0, 1, 2, 3, 4, 5])\n",
        "y3 = np.array([10, 20, 30, 40, 50, 60])\n",
        "\n",
        "x4 = np.array([0, 1, 2, 3, 4, 5])\n",
        "y4 = np.array([200, 350, 250, 550, 450, 150])\n",
        "\n",
        "# Create subplots\n",
        "plt.figure(figsize=(10, 8))  # Set figure size\n",
        "\n",
        "# Subplot 1\n",
        "plt.subplot(2, 2, 1)  # (rows, columns, subplot number)\n",
        "plt.plot(x1, y1)\n",
        "plt.title('Line Plot 1')\n",
        "\n",
        "# Subplot 2\n",
        "plt.subplot(2, 2, 2)\n",
        "plt.plot(x2, y2)\n",
        "plt.title('Line Plot 2')\n",
        "\n",
        "# Subplot 3\n",
        "plt.subplot(2, 2, 3)\n",
        "plt.plot(x3, y3)\n",
        "plt.title('Line Plot 3')\n",
        "\n",
        "# Subplot 4\n",
        "plt.subplot(2, 2, 4)\n",
        "plt.plot(x4, y4)\n",
        "plt.title('Line Plot 4')\n",
        "\n",
        "# Adjust layout\n",
        "plt.tight_layout()\n",
        "\n",
        "# Show the plot\n",
        "plt.show()"
      ],
      "metadata": {
        "id": "TUMpeW7VHlZA"
      },
      "execution_count": null,
      "outputs": []
    },
    {
      "cell_type": "markdown",
      "source": [
        "Q4: What is a bar plot? Why is it used? Using the following data plot a bar plot and a horizontal bar plot.\n",
        "import numpy as np\n",
        "company = np.array([\"Apple\", \"Microsoft\", \"Google\", \"AMD\"])\n",
        "profit = np.array([3000, 8000, 1000, 10000])"
      ],
      "metadata": {
        "id": "28azQnZoHsdk"
      }
    },
    {
      "cell_type": "code",
      "source": [
        "import matplotlib.pyplot as plt\n",
        "import numpy as np\n",
        "\n",
        "# Data\n",
        "company = np.array([\"Apple\", \"Microsoft\", \"Google\", \"AMD\"])\n",
        "profit = np.array([3000, 8000, 1000, 10000])\n",
        "\n",
        "# Create a bar plot\n",
        "plt.figure(figsize=(8, 6))\n",
        "plt.bar(company, profit, color='skyblue')\n",
        "plt.title('Profit of Companies')\n",
        "plt.xlabel('Company')\n",
        "plt.ylabel('Profit (in millions)')\n",
        "plt.grid(True)\n",
        "plt.show()\n",
        "\n",
        "# Create a horizontal bar plot\n",
        "plt.figure(figsize=(8, 6))\n",
        "plt.barh(company, profit, color='lightgreen')\n",
        "plt.title('Profit of Companies')\n",
        "plt.xlabel('Profit (in millions)')\n",
        "plt.ylabel('Company')\n",
        "plt.grid(True)\n",
        "plt.show()"
      ],
      "metadata": {
        "id": "-OTsc4-OHwcu"
      },
      "execution_count": null,
      "outputs": []
    },
    {
      "cell_type": "markdown",
      "source": [
        "Q5: What is a box plot? Why is it used? Using the following data plot a box plot.\n",
        "box1 = np.random.normal(100, 10, 200)\n",
        "box2 = np.random.normal(90, 20, 200)"
      ],
      "metadata": {
        "id": "HiuYu6WQH5bM"
      }
    },
    {
      "cell_type": "markdown",
      "source": [
        "A box plot, also known as a box-and-whisker plot, is a graphical representation of the distribution of a dataset based on the five-number summary: minimum, first quartile (Q1), median (second quartile, Q2), third quartile (Q3), and maximum"
      ],
      "metadata": {
        "id": "abdZDm_zIGWE"
      }
    },
    {
      "cell_type": "code",
      "source": [
        "import matplotlib.pyplot as plt\n",
        "import numpy as np\n",
        "\n",
        "# Data\n",
        "box1 = np.random.normal(100, 10, 200)\n",
        "box2 = np.random.normal(90, 20, 200)\n",
        "\n",
        "# Create a box plot\n",
        "plt.figure(figsize=(8, 6))\n",
        "plt.boxplot([box1, box2], labels=['Box 1', 'Box 2'])\n",
        "plt.title('Box Plot')\n",
        "plt.ylabel('Values')\n",
        "plt.grid(True)\n",
        "plt.show()"
      ],
      "metadata": {
        "id": "X6UB_jozH8fn"
      },
      "execution_count": null,
      "outputs": []
    }
  ]
}